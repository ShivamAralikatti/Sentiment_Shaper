{
 "cells": [
  {
   "cell_type": "code",
   "execution_count": 1,
   "id": "db396064",
   "metadata": {},
   "outputs": [
    {
     "name": "stdout",
     "output_type": "stream",
     "text": [
      "Epoch 1/5\n",
      "391/391 [==============================] - 45s 115ms/step - loss: 0.3919 - accuracy: 0.8167 - val_loss: 0.2976 - val_accuracy: 0.8754\n",
      "Epoch 2/5\n",
      "391/391 [==============================] - 48s 122ms/step - loss: 0.2321 - accuracy: 0.9105 - val_loss: 0.3290 - val_accuracy: 0.8674\n",
      "Epoch 3/5\n",
      "391/391 [==============================] - 48s 123ms/step - loss: 0.1646 - accuracy: 0.9404 - val_loss: 0.3792 - val_accuracy: 0.8654\n",
      "Epoch 4/5\n",
      "391/391 [==============================] - 50s 127ms/step - loss: 0.1343 - accuracy: 0.9499 - val_loss: 0.5320 - val_accuracy: 0.8356\n",
      "Epoch 5/5\n",
      "391/391 [==============================] - 49s 126ms/step - loss: 0.1005 - accuracy: 0.9640 - val_loss: 0.4355 - val_accuracy: 0.8573\n"
     ]
    },
    {
     "name": "stderr",
     "output_type": "stream",
     "text": [
      "/Users/shivam/anaconda3/lib/python3.11/site-packages/keras/src/engine/training.py:3103: UserWarning: You are saving your model as an HDF5 file via `model.save()`. This file format is considered legacy. We recommend using instead the native Keras format, e.g. `model.save('my_model.keras')`.\n",
      "  saving_api.save_model(\n"
     ]
    },
    {
     "name": "stdout",
     "output_type": "stream",
     "text": [
      "Enter a movie review: It was a great movie\n",
      "1/1 [==============================] - 0s 159ms/step\n",
      "Sentiment: Negative\n"
     ]
    }
   ],
   "source": [
    "import tensorflow as tf\n",
    "from tensorflow.keras.datasets import imdb\n",
    "from tensorflow.keras.preprocessing import sequence\n",
    "from tensorflow.keras.models import Sequential\n",
    "from tensorflow.keras.layers import Embedding, LSTM, Dense\n",
    "\n",
    "vocab_size = 10000\n",
    "max_length = 200\n",
    "\n",
    "(x_train, y_train), (x_test, y_test) = imdb.load_data(num_words=vocab_size)\n",
    "x_train = sequence.pad_sequences(x_train, maxlen=max_length)\n",
    "x_test = sequence.pad_sequences(x_test, maxlen=max_length)\n",
    "\n",
    "embedding_size = 128\n",
    "lstm_units = 64\n",
    "\n",
    "model = Sequential()\n",
    "model.add(Embedding(vocab_size, embedding_size, input_length=max_length))\n",
    "model.add(LSTM(lstm_units))\n",
    "model.add(Dense(1, activation='sigmoid'))\n",
    "\n",
    "model.compile(loss='binary_crossentropy', optimizer='adam', metrics=['accuracy'])\n",
    "\n",
    "batch_size = 64\n",
    "epochs = 5\n",
    "\n",
    "model.fit(x_train, y_train, batch_size=batch_size, epochs=epochs, validation_data=(x_test, y_test))\n",
    "\n",
    "# Save the trained model to a file\n",
    "model.save(\"sentiment_model.h5\")\n",
    "\n",
    "# Take input from the user\n",
    "user_input = input(\"Enter a movie review: \")\n",
    "# Convert user input to a sequence\n",
    "user_sequence = [imdb.get_word_index().get(word.lower(), 2) for word in user_input.split()]\n",
    "user_sequence = sequence.pad_sequences([user_sequence], maxlen=max_length)\n",
    "\n",
    "# Predict sentiment for the user input\n",
    "prediction = model.predict(user_sequence)[0]\n",
    "sentiment = \"Positive\" if prediction >= 0.5 else \"Negative\"\n",
    "print(f\"Sentiment: {sentiment}\")"
   ]
  }
 ],
 "metadata": {
  "kernelspec": {
   "display_name": "Python 3 (ipykernel)",
   "language": "python",
   "name": "python3"
  },
  "language_info": {
   "codemirror_mode": {
    "name": "ipython",
    "version": 3
   },
   "file_extension": ".py",
   "mimetype": "text/x-python",
   "name": "python",
   "nbconvert_exporter": "python",
   "pygments_lexer": "ipython3",
   "version": "3.11.5"
  }
 },
 "nbformat": 4,
 "nbformat_minor": 5
}
